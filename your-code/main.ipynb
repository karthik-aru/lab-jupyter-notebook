{
 "cells": [
  {
   "cell_type": "markdown",
   "metadata": {},
   "source": [
    "# <font color='Green'> Ametlla de Mar to Ampolla de Mar Hiking Vacation </font>"
   ]
  },
  {
   "cell_type": "markdown",
   "metadata": {},
   "source": [
    "## <font color='Purple'> *Also known as the Costa Dorada it is a beautiful coastal line,* </font> \n",
    "## <font color='Purple'> *with a hiking route between the two villages of Ampolla de Mar and Ametlla de Mar*</font>"
   ]
  },
  {
   "cell_type": "markdown",
   "metadata": {},
   "source": [
    "<img src=\"./IMG_2456.jpg\" />\n",
    "\n",
    "<img src = \"./IMG_me.jpg\" />"
   ]
  },
  {
   "cell_type": "markdown",
   "metadata": {},
   "source": [
    "<img src = \"./IMG_2460.jpg\" />"
   ]
  },
  {
   "cell_type": "markdown",
   "metadata": {},
   "source": [
    "<a id = 'AmetllaVideo'></a> \n",
    "<video controls src=\"./VID_20200721_142529.mov\">animation<video/>"
   ]
  },
  {
   "cell_type": "code",
   "execution_count": 2,
   "metadata": {},
   "outputs": [],
   "source": [
    "def get_traveler_name():\n",
    "    Name = input(\"Enter the hiker's Name: \")\n",
    "    return Name"
   ]
  },
  {
   "cell_type": "code",
   "execution_count": 3,
   "metadata": {},
   "outputs": [
    {
     "name": "stdout",
     "output_type": "stream",
     "text": [
      "Enter the hiker's Name: Karthik\n",
      "The traveler name is : Karthik\n"
     ]
    }
   ],
   "source": [
    "print(\"The traveler name is : \" + get_traveler_name())"
   ]
  },
  {
   "cell_type": "markdown",
   "metadata": {},
   "source": [
    "## Karthik chilling out at Ametlla de Mar\n",
    "\n",
    "<img src = \"./IMG_me.jpg\" />"
   ]
  },
  {
   "cell_type": "markdown",
   "metadata": {},
   "source": [
    "### My favorite things about this destination\n",
    "\n",
    "1. It's a very beautiful, calm and tranquil place for hiking, where I can only hear and smell the water\n",
    "2. The terrain is difficult and it takes 4 hours so I also get a good workout\n",
    "3. There are many small calas with almost nobody so you have your own private beach"
   ]
  },
  {
   "cell_type": "markdown",
   "metadata": {},
   "source": [
    "[Check out the video I made and you will agree with me :)](#AmetllaVideo)"
   ]
  },
  {
   "cell_type": "markdown",
   "metadata": {},
   "source": [
    "[Here is a promotional youtube video for Ametlla de Mar](https://www.youtube.com/watch?v=APNFQ2v2MMA)"
   ]
  },
  {
   "cell_type": "code",
   "execution_count": null,
   "metadata": {},
   "outputs": [],
   "source": []
  }
 ],
 "metadata": {
  "kernelspec": {
   "display_name": "Python 3",
   "language": "python",
   "name": "python3"
  },
  "language_info": {
   "codemirror_mode": {
    "name": "ipython",
    "version": 3
   },
   "file_extension": ".py",
   "mimetype": "text/x-python",
   "name": "python",
   "nbconvert_exporter": "python",
   "pygments_lexer": "ipython3",
   "version": "3.7.6"
  }
 },
 "nbformat": 4,
 "nbformat_minor": 4
}
